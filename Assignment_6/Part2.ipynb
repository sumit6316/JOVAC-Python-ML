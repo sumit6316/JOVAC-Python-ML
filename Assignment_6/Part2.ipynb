{
 "cells": [
  {
   "cell_type": "markdown",
   "id": "fd51b8f3",
   "metadata": {},
   "source": [
    "Task 3: GaussianNB with Iris or Wine Dataset \n",
    "● Train a GaussianNB classifier on a numeric dataset. \n",
    "\n",
    "● Split data into train/test sets. \n",
    "\n",
    "● Evaluate model performance. \n",
    "\n",
    "● Compare with Logistic Regression or Decision Tree briefly."
   ]
  },
  {
   "cell_type": "code",
   "execution_count": 1,
   "id": "1a9a1862",
   "metadata": {},
   "outputs": [],
   "source": [
    "from sklearn.datasets import load_iris\n",
    "from sklearn.model_selection import train_test_split\n",
    "from sklearn.naive_bayes import GaussianNB\n",
    "from sklearn.linear_model import LogisticRegression\n",
    "from sklearn.tree import DecisionTreeClassifier\n",
    "from sklearn.metrics import accuracy_score, classification_report"
   ]
  },
  {
   "cell_type": "code",
   "execution_count": null,
   "id": "a52653b2",
   "metadata": {},
   "outputs": [],
   "source": [
    "# Step 2: Load dataset\n",
    "data = load_iris()\n",
    "X = data.data\n",
    "y = data.target"
   ]
  },
  {
   "cell_type": "code",
   "execution_count": 3,
   "id": "cc142859",
   "metadata": {},
   "outputs": [],
   "source": [
    "# Step 3: Split data into train/test sets\n",
    "X_train, X_test, y_train, y_test = train_test_split(X, y, test_size=0.3, random_state=42)"
   ]
  },
  {
   "cell_type": "code",
   "execution_count": 4,
   "id": "418f767f",
   "metadata": {},
   "outputs": [],
   "source": [
    "# Step 4: Train GaussianNB\n",
    "gnb = GaussianNB()\n",
    "gnb.fit(X_train, y_train)\n",
    "y_pred_gnb = gnb.predict(X_test)"
   ]
  },
  {
   "cell_type": "code",
   "execution_count": 6,
   "id": "8601b002",
   "metadata": {},
   "outputs": [],
   "source": [
    "# Step 5: Train Logistic Regression for comparison\n",
    "lr = LogisticRegression(max_iter=200)\n",
    "lr.fit(X_train, y_train)\n",
    "y_pred_lr = lr.predict(X_test)"
   ]
  },
  {
   "cell_type": "code",
   "execution_count": 7,
   "id": "9f23ddd0",
   "metadata": {},
   "outputs": [],
   "source": [
    "# Step 6: Train Decision Tree for comparison\n",
    "dt = DecisionTreeClassifier()\n",
    "dt.fit(X_train, y_train)\n",
    "y_pred_dt = dt.predict(X_test)"
   ]
  },
  {
   "cell_type": "code",
   "execution_count": 8,
   "id": "ba9a2bb2",
   "metadata": {},
   "outputs": [
    {
     "name": "stdout",
     "output_type": "stream",
     "text": [
      "GaussianNB Accuracy: 0.9778\n",
      "Logistic Regression Accuracy: 1.0\n",
      "Decision Tree Accuracy: 1.0\n",
      "\n",
      "--- GaussianNB Report ---\n",
      "               precision    recall  f1-score   support\n",
      "\n",
      "           0       1.00      1.00      1.00        19\n",
      "           1       1.00      0.92      0.96        13\n",
      "           2       0.93      1.00      0.96        13\n",
      "\n",
      "    accuracy                           0.98        45\n",
      "   macro avg       0.98      0.97      0.97        45\n",
      "weighted avg       0.98      0.98      0.98        45\n",
      "\n",
      "\n",
      "--- Logistic Regression Report ---\n",
      "               precision    recall  f1-score   support\n",
      "\n",
      "           0       1.00      1.00      1.00        19\n",
      "           1       1.00      1.00      1.00        13\n",
      "           2       1.00      1.00      1.00        13\n",
      "\n",
      "    accuracy                           1.00        45\n",
      "   macro avg       1.00      1.00      1.00        45\n",
      "weighted avg       1.00      1.00      1.00        45\n",
      "\n",
      "\n",
      "--- Decision Tree Report ---\n",
      "               precision    recall  f1-score   support\n",
      "\n",
      "           0       1.00      1.00      1.00        19\n",
      "           1       1.00      1.00      1.00        13\n",
      "           2       1.00      1.00      1.00        13\n",
      "\n",
      "    accuracy                           1.00        45\n",
      "   macro avg       1.00      1.00      1.00        45\n",
      "weighted avg       1.00      1.00      1.00        45\n",
      "\n"
     ]
    }
   ],
   "source": [
    "# Step 7: Evaluate all models\n",
    "print(\"GaussianNB Accuracy:\", round(accuracy_score(y_test, y_pred_gnb), 4))\n",
    "print(\"Logistic Regression Accuracy:\", round(accuracy_score(y_test, y_pred_lr), 4))\n",
    "print(\"Decision Tree Accuracy:\", round(accuracy_score(y_test, y_pred_dt), 4))\n",
    "\n",
    "print(\"\\n--- GaussianNB Report ---\\n\", classification_report(y_test, y_pred_gnb))\n",
    "print(\"\\n--- Logistic Regression Report ---\\n\", classification_report(y_test, y_pred_lr))\n",
    "print(\"\\n--- Decision Tree Report ---\\n\", classification_report(y_test, y_pred_dt))"
   ]
  },
  {
   "cell_type": "markdown",
   "id": "a63ccb74",
   "metadata": {},
   "source": [
    "| Model                   | Accuracy (Iris Dataset) | Notes                                                       |\n",
    "| ----------------------- | ----------------------- | ----------------------------------------------------------- |\n",
    "| **GaussianNB**          | Typically 0.93–0.96     | Fast, works well with normally distributed numeric data     |\n",
    "| **Logistic Regression** | 0.95–0.98               | Strong baseline model, interpretable, performs well         |\n",
    "| **Decision Tree**       | 0.93–1.00               | Captures non-linear relationships, but prone to overfitting |\n"
   ]
  },
  {
   "cell_type": "markdown",
   "id": "413f05c7",
   "metadata": {},
   "source": [
    "Task 4: Conceptual Questions \n",
    "Answer briefly: \n",
    "1. What is entropy and information gain? \n",
    "\n",
    "2. Explain the difference between Gini Index and Entropy. \n",
    "\n",
    "3. How can a decision tree overfit? How can this be avoided? "
   ]
  },
  {
   "cell_type": "markdown",
   "id": "9bd19681",
   "metadata": {},
   "source": [
    "1. What is entropy and information gain?\n",
    "\n",
    "   Entropy measures the impurity or randomness in a dataset. A high entropy means more disorder (mixed classes).\n",
    "\n",
    "   Information Gain is the reduction in entropy after a dataset is split on a feature. It helps in selecting the best feature for splitting by measuring how well it separates the classes.\n",
    "\n",
    "2. Explain the difference between Gini Index and Entropy.\n",
    "\n",
    "   Both are measures of impurity, but calculated differently:\n",
    "\n",
    "   Entropy uses logarithms: \n",
    "−\n",
    "∑\n",
    "𝑝\n",
    "𝑖\n",
    "log\n",
    "⁡\n",
    "2\n",
    "𝑝\n",
    "𝑖\n",
    "−∑p \n",
    "i\n",
    "​\n",
    " log \n",
    "2\n",
    "​\n",
    " p \n",
    "i\n",
    "​\n",
    " \n",
    "\n",
    "   Gini Index uses squared probabilities: \n",
    "1\n",
    "−\n",
    "∑\n",
    "𝑝\n",
    "𝑖\n",
    "2\n",
    "1−∑p \n",
    "i\n",
    "2\n",
    "​\n",
    " \n",
    "\n",
    "    Gini is generally faster to compute and tends to favor larger splits, while entropy can be more sensitive to class imbalance.\n",
    "\n",
    "3. How can a decision tree overfit? How can this be avoided?\n",
    "   A decision tree can overfit when it grows too deep and learns noise or specific patterns in the training data.\n",
    "  This can be avoided by:\n",
    "\n",
    "   Limiting tree depth (max_depth)\n",
    "\n",
    "   Setting minimum samples per leaf (min_samples_leaf)\n",
    "\n",
    "   Using pruning techniques or ensemble methods like Random Forests."
   ]
  },
  {
   "cell_type": "code",
   "execution_count": null,
   "id": "cbc07052",
   "metadata": {},
   "outputs": [],
   "source": []
  }
 ],
 "metadata": {
  "kernelspec": {
   "display_name": "Python 3",
   "language": "python",
   "name": "python3"
  },
  "language_info": {
   "codemirror_mode": {
    "name": "ipython",
    "version": 3
   },
   "file_extension": ".py",
   "mimetype": "text/x-python",
   "name": "python",
   "nbconvert_exporter": "python",
   "pygments_lexer": "ipython3",
   "version": "3.11.4"
  }
 },
 "nbformat": 4,
 "nbformat_minor": 5
}
