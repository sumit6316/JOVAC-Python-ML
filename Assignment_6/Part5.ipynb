{
 "cells": [
  {
   "cell_type": "markdown",
   "id": "0e27da03",
   "metadata": {},
   "source": [
    "Task 8: Random Forest vs Decision Tree \n",
    "\n",
    "● Train a RandomForestClassifier on the same dataset used for Task 5. \n",
    "\n",
    "● Compare accuracy, precision, and recall with the standalone decision tree. \n",
    "\n",
    "● Plot feature importances. "
   ]
  },
  {
   "cell_type": "code",
   "execution_count": 1,
   "id": "47da8e6b",
   "metadata": {},
   "outputs": [],
   "source": [
    "import pandas as pd\n",
    "import seaborn as sns\n",
    "from sklearn.model_selection import train_test_split\n",
    "from sklearn.metrics import accuracy_score, precision_score, recall_score, classification_report, confusion_matrix\n",
    "from sklearn.tree import DecisionTreeClassifier\n",
    "from sklearn.ensemble import RandomForestClassifier\n",
    "import matplotlib.pyplot as plt"
   ]
  },
  {
   "cell_type": "code",
   "execution_count": 2,
   "id": "c1d15fe6",
   "metadata": {},
   "outputs": [],
   "source": [
    "# Load and preprocess Titanic dataset\n",
    "titanic = sns.load_dataset('titanic')\n",
    "titanic = titanic.drop(columns=['deck', 'embark_town', 'alive', 'who', 'adult_male', 'class'])\n",
    "titanic = titanic.dropna()"
   ]
  },
  {
   "cell_type": "code",
   "execution_count": 3,
   "id": "8141ab07",
   "metadata": {},
   "outputs": [],
   "source": [
    "# Encode categorical variables\n",
    "titanic['sex'] = titanic['sex'].map({'male': 0, 'female': 1})\n",
    "titanic['embarked'] = titanic['embarked'].map({'S': 0, 'C': 1, 'Q': 2})"
   ]
  },
  {
   "cell_type": "code",
   "execution_count": 4,
   "id": "2fe1873c",
   "metadata": {},
   "outputs": [],
   "source": [
    "# Define features and target\n",
    "X = titanic[['pclass', 'sex', 'age', 'sibsp', 'parch', 'fare', 'embarked']]\n",
    "y = titanic['survived']"
   ]
  },
  {
   "cell_type": "code",
   "execution_count": 5,
   "id": "8a7996d7",
   "metadata": {},
   "outputs": [],
   "source": [
    "# Train-test split\n",
    "X_train, X_test, y_train, y_test = train_test_split(X, y, test_size=0.2, random_state=42)\n"
   ]
  },
  {
   "cell_type": "code",
   "execution_count": 6,
   "id": "054070b9",
   "metadata": {},
   "outputs": [],
   "source": [
    "# Decision Tree\n",
    "dt = DecisionTreeClassifier(max_depth=4, random_state=42)\n",
    "dt.fit(X_train, y_train)\n",
    "y_pred_dt = dt.predict(X_test)\n"
   ]
  },
  {
   "cell_type": "code",
   "execution_count": 7,
   "id": "0cc0257d",
   "metadata": {},
   "outputs": [],
   "source": [
    "# Random Forest\n",
    "rf = RandomForestClassifier(n_estimators=100, max_depth=4, random_state=42)\n",
    "rf.fit(X_train, y_train)\n",
    "y_pred_rf = rf.predict(X_test)\n"
   ]
  },
  {
   "cell_type": "code",
   "execution_count": 8,
   "id": "9bdb664a",
   "metadata": {},
   "outputs": [
    {
     "name": "stdout",
     "output_type": "stream",
     "text": [
      "---- Decision Tree ----\n",
      "Accuracy: 0.7063\n",
      "Precision: 0.7234\n",
      "Recall: 0.5397\n",
      "\n",
      "---- Random Forest ----\n",
      "Accuracy: 0.7902\n",
      "Precision: 0.8667\n",
      "Recall: 0.619\n"
     ]
    }
   ],
   "source": [
    "# Decision Tree Metrics\n",
    "print(\"---- Decision Tree ----\")\n",
    "print(\"Accuracy:\", round(accuracy_score(y_test, y_pred_dt), 4))\n",
    "print(\"Precision:\", round(precision_score(y_test, y_pred_dt), 4))\n",
    "print(\"Recall:\", round(recall_score(y_test, y_pred_dt), 4))\n",
    "\n",
    "# Random Forest Metrics\n",
    "print(\"\\n---- Random Forest ----\")\n",
    "print(\"Accuracy:\", round(accuracy_score(y_test, y_pred_rf), 4))\n",
    "print(\"Precision:\", round(precision_score(y_test, y_pred_rf), 4))\n",
    "print(\"Recall:\", round(recall_score(y_test, y_pred_rf), 4))"
   ]
  },
  {
   "cell_type": "code",
   "execution_count": 9,
   "id": "5c6519da",
   "metadata": {},
   "outputs": [
    {
     "data": {
      "image/png": "[encoded data removed]",
      "text/plain": [
       "<Figure size 800x500 with 1 Axes>"
      ]
     },
     "metadata": {},
     "output_type": "display_data"
    }
   ],
   "source": [
    "import numpy as np\n",
    "\n",
    "# Get feature importances\n",
    "importances = rf.feature_importances_\n",
    "features = X.columns\n",
    "\n",
    "# Plot\n",
    "plt.figure(figsize=(8, 5))\n",
    "plt.barh(features, importances, color='teal')\n",
    "plt.xlabel(\"Feature Importance\")\n",
    "plt.title(\"Random Forest - Feature Importances\")\n",
    "plt.grid(True)\n",
    "plt.tight_layout()\n",
    "plt.show()"
   ]
  },
  {
   "cell_type": "markdown",
   "id": "c238d834",
   "metadata": {},
   "source": [
    " Conclusion: Random Forest usually performs better due to its ensemble nature, offering higher generalization and lower overfitting compared to a single decision tree."
   ]
  },
  {
   "cell_type": "code",
   "execution_count": null,
   "id": "57254ea2",
   "metadata": {},
   "outputs": [],
   "source": []
  }
 ],
 "metadata": {
  "kernelspec": {
   "display_name": "Python 3",
   "language": "python",
   "name": "python3"
  },
  "language_info": {
   "codemirror_mode": {
    "name": "ipython",
    "version": 3
   },
   "file_extension": ".py",
   "mimetype": "text/x-python",
   "name": "python",
   "nbconvert_exporter": "python",
   "pygments_lexer": "ipython3",
   "version": "3.11.4"
  }
 },
 "nbformat": 4,
 "nbformat_minor": 5
}
