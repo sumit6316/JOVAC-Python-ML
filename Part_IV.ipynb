{
 "cells": [
  {
   "cell_type": "markdown",
   "id": "3ddd4e16",
   "metadata": {},
   "source": [
    "Part-III: General Questions \n",
    "Objective: \n",
    "To strengthen conceptual understanding of the differences, use cases, and \n",
    "assumptions of linear vs. logistic regression. \n",
    "Assignment Tasks \n",
    "Answer the following in brief (2–4 sentences each): \n",
    "1. What are the assumptions of linear regression? \n",
    "2. When should you use logistic regression instead of linear regression? \n",
    "3. What is the interpretation of coefficients in logistic regression? \n",
    "4. What is the difference between sigmoid and softmax functions? \n",
    "5. Why is R-squared not suitable for evaluating logistic regression \n",
    "models?"
   ]
  },
  {
   "cell_type": "markdown",
   "id": "424cd980",
   "metadata": {},
   "source": [
    "1. What are the assumptions of linear regression?\n",
    "\n",
    "Linear regression assumes a linear relationship between the independent and dependent variables. Other key assumptions include independence of errors, homoscedasticity (constant variance of errors), no multicollinearity among predictors, and normally distributed residuals.\n",
    "\n",
    "2. When should you use logistic regression instead of linear regression?\n",
    "\n",
    "Use logistic regression when the target variable is categorical, especially for binary classification problems (e.g., spam vs. not spam). Linear regression is unsuitable for such cases because it can predict values outside the 0–1 range.\n",
    "\n",
    "3. What is the interpretation of coefficients in logistic regression?\n",
    "\n",
    "In logistic regression, each coefficient represents the log-odds change in the probability of the positive class for a one-unit increase in the predictor variable, holding other variables constant. Exponentiating the coefficient gives the odds ratio.\n",
    "\n",
    "4. What is the difference between sigmoid and softmax functions?\n",
    "\n",
    "The sigmoid function maps a single value to a probability between 0 and 1 and is used for binary classification. The softmax function maps a vector of values to a probability distribution over multiple classes, making it suitable for multiclass classification.\n",
    "\n",
    "5. Why is R-squared not suitable for evaluating logistic regression models?\n",
    "\n",
    "R-squared measures how well a model explains variance in a continuous outcome, which is not applicable to categorical outputs in logistic regression. Instead, metrics like accuracy, AUC-ROC, and F1-score are more appropriate for classification tasks"
   ]
  }
 ],
 "metadata": {
  "kernelspec": {
   "display_name": "Python 3",
   "language": "python",
   "name": "python3"
  },
  "language_info": {
   "codemirror_mode": {
    "name": "ipython",
    "version": 3
   },
   "file_extension": ".py",
   "mimetype": "text/x-python",
   "name": "python",
   "nbconvert_exporter": "python",
   "pygments_lexer": "ipython3",
   "version": "3.11.4"
  }
 },
 "nbformat": 4,
 "nbformat_minor": 5
}
